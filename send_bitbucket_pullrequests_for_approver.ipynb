{
 "cells": [
  {
   "cell_type": "code",
   "execution_count": 11,
   "id": "d68fe4c1",
   "metadata": {},
   "outputs": [],
   "source": [
    "from atlassian import Bitbucket\n",
    "import pandas as pd\n",
    "import win32com.client\n",
    "import urllib3\n",
    "urllib3.disable_warnings()"
   ]
  },
  {
   "cell_type": "code",
   "execution_count": null,
   "id": "e44b7560",
   "metadata": {},
   "outputs": [],
   "source": [
    "bitbucket = Bitbucket(\n",
    "    username='', # login BB\n",
    "    password='', # password 'HTTP acces tokens' in settings BB\n",
    "    url='', # https://stash.<...>\n",
    "    verify_ssl=False\n",
    ")"
   ]
  },
  {
   "cell_type": "code",
   "execution_count": null,
   "id": "5d8d6f7c",
   "metadata": {},
   "outputs": [],
   "source": [
    "release = '01.032.00' # number of actual release"
   ]
  },
  {
   "cell_type": "code",
   "execution_count": null,
   "id": "2f795e2c",
   "metadata": {},
   "outputs": [],
   "source": [
    "merg = list(bitbucket.get_pull_requests(project='project_name', repository_slug='repository_name', state='MERGED')) # merged pull requests of repository"
   ]
  },
  {
   "cell_type": "code",
   "execution_count": null,
   "id": "208be895",
   "metadata": {},
   "outputs": [],
   "source": [
    "cnt = 0\n",
    "for i in range(len(merg)):\n",
    "    if merg[i]['toRef']['displayId'][-9:] == release:\n",
    "        cnt += 1  # count merged pull requests in actual release"
   ]
  },
  {
   "cell_type": "code",
   "execution_count": null,
   "id": "9fa726e7",
   "metadata": {},
   "outputs": [],
   "source": [
    "pull_req = list(bitbucket.get_pull_requests(project='project_name', repository_slug='repository_name', state='OPEN')) # open pull requests, need approve"
   ]
  },
  {
   "cell_type": "code",
   "execution_count": null,
   "id": "19d32266",
   "metadata": {},
   "outputs": [],
   "source": [
    "total = dp.DataFrame(columns=['task'])\n",
    "for i in range(len(pull_req)):\n",
    "    tasks = dict({})\n",
    "    \n",
    "    tasks['task'] = pull_req[i]['fromRef']['id'][-12:] # task numbers\n",
    "    \n",
    "    tasks['link'] = pull_req[i]['links']['self'][0]['href'] # task URL's\n",
    "    \n",
    "    for rev in range(len(pull_req[i]['reviewers'])): # approvers statuses\n",
    "        tasks[pull_req[i]['reviewers'][rev]['user']['displayName']] = pull_req[i]['reviewers'][rev]['status']\n",
    "        \n",
    "    total = total.append(tasks, ignore_index=True) # insert approvers statuses in main table"
   ]
  },
  {
   "cell_type": "code",
   "execution_count": 12,
   "id": "f4fdea1f",
   "metadata": {},
   "outputs": [],
   "source": [
    "try:\n",
    "    total.insert(2, 'Task', '<a href=\"' + total['link'] + '\">' + total['task'] + '</a>')\n",
    "except:\n",
    "    pass\n",
    "# insert hyperlink"
   ]
  },
  {
   "cell_type": "code",
   "execution_count": null,
   "id": "018a435b",
   "metadata": {},
   "outputs": [],
   "source": [
    "agg_rating = total[total.columns[2:]].unstack()\n",
    "agg_rating = pd.DataFrame(agg_rating).reset_index()\n",
    "agg_rating.columns = ['NAME', 'LVL', 'NEED_APPROVE']\n",
    "del agg_rating['LVL']\n",
    "agg_rating = agg_rating.query(\"NEED_APPROVE == 'UNAPROVED' \").groupby(['NAME']).agg({'NEED_APPROVE': 'count'}).reset_index.sort_values('NEED_APPROVED', ascending=False)\n",
    "# approvers and count NEED_APPROVE status list"
   ]
  },
  {
   "cell_type": "code",
   "execution_count": null,
   "id": "83433e46",
   "metadata": {},
   "outputs": [],
   "source": [
    "ol = win32com.client.Dispatch('Outlook.Application')\n",
    "newmail = ol.CreateItem(0x0)\n",
    "newmail.Subject = 'Please, approve it'\n",
    "newmail.To = 'man@gmail.com; girl@gmail.com'\n",
    "newmail.HTMLBody = f'''Please, approve this pull requests\n",
    "<p><b>Merged tasks in current release: {cnt}</b></p>\n",
    "<p><b>Our repository: </p></b>\n",
    "\n",
    "<html>\n",
    "    <head></head>\n",
    "    <body>\n",
    "    {agg_rating.to_html(index=False)}\n",
    "    <body>\n",
    "</html>\n",
    "\n",
    "<html>\n",
    "    <head>\n",
    "    <meta charset=\"UTF-8\">\n",
    "    </head>\n",
    "    <body>\n",
    "    {total[total.columns[2:]].replace('APPROVED', '<p style=\"font-size:30px\"> ✅ </p>').replace('UNAPPROVED', '').replace('NEED_WORK', '<p style=\"font-size:30px\"> 🕗 </p>').\n",
    "fillna('').to_html(render_links=True, index=False, escape=False).replace('<tr>', '<tr align=\"center\">')}\n",
    "    <body>\n",
    "</html>\n",
    "'''\n",
    "# create html mail with table inside"
   ]
  },
  {
   "cell_type": "code",
   "execution_count": null,
   "id": "3e6b48c4",
   "metadata": {},
   "outputs": [],
   "source": [
    "newmail.Display() # view mail"
   ]
  },
  {
   "cell_type": "code",
   "execution_count": null,
   "id": "58423d4f",
   "metadata": {},
   "outputs": [],
   "source": [
    "newmail.Send() # send creating mail"
   ]
  },
  {
   "cell_type": "code",
   "execution_count": null,
   "id": "45d1ca74",
   "metadata": {},
   "outputs": [],
   "source": []
  }
 ],
 "metadata": {
  "kernelspec": {
   "display_name": "Python 3 (ipykernel)",
   "language": "python",
   "name": "python3"
  },
  "language_info": {
   "codemirror_mode": {
    "name": "ipython",
    "version": 3
   },
   "file_extension": ".py",
   "mimetype": "text/x-python",
   "name": "python",
   "nbconvert_exporter": "python",
   "pygments_lexer": "ipython3",
   "version": "3.9.12"
  }
 },
 "nbformat": 4,
 "nbformat_minor": 5
}
